{
 "cells": [
  {
   "cell_type": "code",
   "execution_count": 17,
   "metadata": {},
   "outputs": [
    {
     "name": "stdout",
     "output_type": "stream",
     "text": [
      "[2, 4, 9]\n"
     ]
    }
   ],
   "source": [
    "#Task no.8\n",
    "\n",
    "myList = [1,3,5,6,7,8,10]\n",
    "\n",
    "basicList = [i for i in range(myList[0],myList[-1]+1)]\n",
    "\n",
    "print(list(set(myList)^set(basicList)))\n",
    "\n",
    "\n"
   ]
  },
  {
   "cell_type": "code",
   "execution_count": 48,
   "metadata": {},
   "outputs": [
    {
     "name": "stdout",
     "output_type": "stream",
     "text": [
      "5432\n"
     ]
    }
   ],
   "source": [
    "#Task no.18\n",
    "\n",
    "a = 2345\n",
    "temp = str(a)\n",
    "temp2 = list(temp)\n",
    "temp3=[]\n",
    "\n",
    "for i in range(len(temp2)):\n",
    "    temp3.append(temp2[-i-1])\n",
    "\n",
    "result = int(''.join(map(str, temp3)))\n",
    "\n",
    "\n",
    "print(result)"
   ]
  },
  {
   "cell_type": "code",
   "execution_count": 51,
   "metadata": {},
   "outputs": [
    {
     "name": "stdout",
     "output_type": "stream",
     "text": [
      "[20, 2, 3, 4, 6, 7, 10, 0, 0]\n"
     ]
    }
   ],
   "source": [
    "#Task no.27\n",
    "\n",
    "myList= [0,20,2,3,4,0,6,7,10]\n",
    "for i in range(len(myList)):\n",
    "    if myList[i]==0:\n",
    "        myList.append(myList[i])\n",
    "        myList.pop(i)\n",
    "\n",
    "print(myList)"
   ]
  },
  {
   "cell_type": "code",
   "execution_count": 2,
   "metadata": {},
   "outputs": [
    {
     "name": "stdout",
     "output_type": "stream",
     "text": [
      "{'A': 7, 'B': 3, 'C': 2, 'D': 1}\n"
     ]
    }
   ],
   "source": [
    "#Task no.50\n",
    "\n",
    "word='AAAABBBCCDAAA'\n",
    "alist = list(word)\n",
    "count=0\n",
    "freq={}\n",
    "\n",
    "for i in alist:\n",
    "    if i in freq:\n",
    "        freq[i] += 1\n",
    "    else:\n",
    "        freq[i] = 1\n",
    "\n",
    "print(freq)"
   ]
  },
  {
   "cell_type": "code",
   "execution_count": null,
   "metadata": {},
   "outputs": [],
   "source": []
  }
 ],
 "metadata": {
  "kernelspec": {
   "display_name": "base",
   "language": "python",
   "name": "python3"
  },
  "language_info": {
   "codemirror_mode": {
    "name": "ipython",
    "version": 3
   },
   "file_extension": ".py",
   "mimetype": "text/x-python",
   "name": "python",
   "nbconvert_exporter": "python",
   "pygments_lexer": "ipython3",
   "version": "3.12.7"
  }
 },
 "nbformat": 4,
 "nbformat_minor": 2
}

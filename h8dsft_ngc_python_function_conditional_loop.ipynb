{
 "cells": [
  {
   "cell_type": "code",
   "execution_count": 4,
   "metadata": {},
   "outputs": [
    {
     "data": {
      "text/plain": [
       "4"
      ]
     },
     "execution_count": 4,
     "metadata": {},
     "output_type": "execute_result"
    }
   ],
   "source": [
    "#TASK 1\n",
    "sentence=input(\"Masukkan kata: \")\n",
    "\n",
    "def number_of_words(sen):\n",
    "    temp = sen.split()\n",
    "    return len(temp)\n",
    "\n",
    "number_of_words(sentence)"
   ]
  },
  {
   "cell_type": "code",
   "execution_count": 13,
   "metadata": {},
   "outputs": [
    {
     "name": "stdout",
     "output_type": "stream",
     "text": [
      "[5, 10, 15, 20]\n",
      "[10, 20, 30, 40, 50]\n"
     ]
    }
   ],
   "source": [
    "#TASK 2\n",
    "\n",
    "def find_multiple(start,end,multi):\n",
    "    temp=[]\n",
    "    for i in range(start,end+1):\n",
    "        if i % multi == 0:\n",
    "            temp.append(i)\n",
    "    return temp\n",
    "\n",
    "print(find_multiple(1,20,5))\n",
    "print(find_multiple(1,50,10))"
   ]
  },
  {
   "cell_type": "code",
   "execution_count": 4,
   "metadata": {},
   "outputs": [
    {
     "name": "stdout",
     "output_type": "stream",
     "text": [
      "{'Adam': 2.5, 'Faiz': 4, 'Rian': 1}\n",
      "{'Albert': 'A', 'Dwi': 'B', 'Syahdan': 'D', 'Veronica': 'B'}\n"
     ]
    }
   ],
   "source": [
    "#TASK 3\n",
    "def grade_converter(type,**nilai):\n",
    "    temp = nilai\n",
    "    if type=='gpa':\n",
    "        for a,b in nilai.items():\n",
    "            if 0 < b <=39.99:\n",
    "                temp[a]=1\n",
    "            elif 40.0 <= b <=49.99:\n",
    "                temp[a]=1.5\n",
    "            elif 50.0 <= b <=59.99:\n",
    "                temp[a]=2\n",
    "            elif 60.0 <= b <=69.99:\n",
    "                temp[a]=2.5\n",
    "            elif 70.0 <= b <=84.99:\n",
    "                temp[a]=3\n",
    "            elif 85.0 <= b <=100:\n",
    "                temp[a]=4\n",
    "    elif type=='letter':\n",
    "        for a,b in nilai.items():\n",
    "            if 0 < b <=39.99:\n",
    "                temp[a]='F'\n",
    "            elif 40.0 <= b <=49.99:\n",
    "                temp[a]='E'\n",
    "            elif 50.0 <= b <=59.99:\n",
    "                temp[a]='D'\n",
    "            elif 60.0 <= b <=69.99:\n",
    "                temp[a]='C'\n",
    "            elif 70.0 <= b <=84.99:\n",
    "                temp[a]='B'\n",
    "            elif 85.0 <= b <=100:\n",
    "                temp[a]='A'\n",
    "    return temp\n",
    "\n",
    "print(grade_converter('gpa',Adam=62, Faiz=91, Rian=30))\n",
    "\n",
    "print(grade_converter('letter',Albert=90, Dwi=82, Syahdan=58, Veronica=84))\n"
   ]
  },
  {
   "cell_type": "code",
   "execution_count": 25,
   "metadata": {},
   "outputs": [
    {
     "name": "stdout",
     "output_type": "stream",
     "text": [
      "8\n"
     ]
    }
   ],
   "source": [
    "#TASK 4\n",
    "\n",
    "def fibbonaci(n):\n",
    "    a=[]\n",
    "\n",
    "    for i in range(n+1):\n",
    "        if i == 0:\n",
    "            a.append(0)\n",
    "        elif i == 1:\n",
    "            a.append(1)\n",
    "        else:\n",
    "            a.append(a[i-1]+a[i-2])\n",
    "    return a[n]\n",
    "\n",
    "print(fibbonaci(6))"
   ]
  },
  {
   "cell_type": "code",
   "execution_count": null,
   "metadata": {},
   "outputs": [],
   "source": []
  }
 ],
 "metadata": {
  "kernelspec": {
   "display_name": "base",
   "language": "python",
   "name": "python3"
  },
  "language_info": {
   "codemirror_mode": {
    "name": "ipython",
    "version": 3
   },
   "file_extension": ".py",
   "mimetype": "text/x-python",
   "name": "python",
   "nbconvert_exporter": "python",
   "pygments_lexer": "ipython3",
   "version": "3.12.7"
  }
 },
 "nbformat": 4,
 "nbformat_minor": 2
}
